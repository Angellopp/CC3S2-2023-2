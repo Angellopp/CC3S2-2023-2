{
 "cells": [
  {
   "cell_type": "code",
   "execution_count": 2,
   "metadata": {},
   "outputs": [],
   "source": [
    "from pytube import Playlist, YouTube"
   ]
  },
  {
   "cell_type": "code",
   "execution_count": 11,
   "metadata": {},
   "outputs": [
    {
     "name": "stdout",
     "output_type": "stream",
     "text": [
      "Iniciando descarga\n",
      "Sech - Que Mas Pues Remix ft. Maluma, Nicky Jam, Farruko, Justin Quiles, Dalex, Lenny Tavárez\n",
      "FINALIZADO\n",
      "Iniciando descarga\n",
      "LALA\n",
      "FINALIZADO\n",
      "Iniciando descarga\n",
      "Prende la Cámara RMX\n",
      "FINALIZADO\n",
      "Iniciando descarga\n",
      "Caramelo Remix (Video Oficial)\n",
      "FINALIZADO\n",
      "Iniciando descarga\n",
      "Cuaderno\n",
      "FINALIZADO\n",
      "Iniciando descarga\n",
      "Pareja Del Año\n",
      "FINALIZADO\n",
      "Iniciando descarga\n",
      "Sigues Con El\n",
      "FINALIZADO\n",
      "Iniciando descarga\n",
      "Normal\n",
      "FINALIZADO\n"
     ]
    }
   ],
   "source": [
    "playlist = Playlist(\"https://www.youtube.com/playlist?list=PLOr6Lo1VWRjaL5b-p34q_0FKK187AcS-E\")\n",
    "\n",
    "for video in playlist:\n",
    "    print(\"Iniciando descarga\")\n",
    "    print(YouTube(video).title)\n",
    "    YouTube(video).streams.get_audio_only(subtype=\"mp4\").download(\"C:/Users/ANGELLO/Documents/Canciones\")\n",
    "    print(\"FINALIZADO\")\n"
   ]
  },
  {
   "cell_type": "code",
   "execution_count": 27,
   "metadata": {},
   "outputs": [
    {
     "name": "stdout",
     "output_type": "stream",
     "text": [
      "HOlass\n"
     ]
    }
   ],
   "source": [
    "print(\"HOlass\")"
   ]
  }
 ],
 "metadata": {
  "kernelspec": {
   "display_name": "Python 3",
   "language": "python",
   "name": "python3"
  },
  "language_info": {
   "codemirror_mode": {
    "name": "ipython",
    "version": 3
   },
   "file_extension": ".py",
   "mimetype": "text/x-python",
   "name": "python",
   "nbconvert_exporter": "python",
   "pygments_lexer": "ipython3",
   "version": "3.10.4"
  },
  "orig_nbformat": 4
 },
 "nbformat": 4,
 "nbformat_minor": 2
}
