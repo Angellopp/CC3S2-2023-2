{
 "cells": [
  {
   "cell_type": "markdown",
   "id": "f867e19c",
   "metadata": {},
   "source": [
    "### Duck Typing\n",
    "\n",
    "Los términos polimorfismo y duck typing vienen ligados a la programación orientada a objetos y lenguajes con tipado dinámico, pero son frecuentemente confundidos . Veamos sus diferencias.\n",
    "\n",
    "**Polimorfismo**\n",
    "\n",
    "En el ámbito de la programación, el polimorfismo es un concepto que viene asociado a la programación orientada a objetos. Concretamente, significa que una subclase puede cambiar la implementación (o override) los métodos de la clase padre. Es decir, que un método de una clase hija puede tener un comportamiento diferente al de la clase padre.\n",
    "\n",
    "O visto de otra manera, una clase puede tomar diferentes formas, algo que es totalmente coherente con el origen de la palabra, polys (muchos) y morfo (formas).\n",
    "\n",
    "Veamos un ejemplo. Por un lado definimos una clase `Animal` con un método `hablar()` . El uso de `pass` simplemente significa que dejamos el método vacío."
   ]
  },
  {
   "cell_type": "code",
   "execution_count": 8,
   "id": "6fd11665",
   "metadata": {},
   "outputs": [],
   "source": [
    "class Animal:\n",
    "  def hablar(self):\n",
    "     pass"
   ]
  },
  {
   "cell_type": "markdown",
   "id": "88fdc952",
   "metadata": {},
   "source": [
    "Por otro lado tenemos otras tres clases, `Perro` `Gato` y `Vaca` que implementan el método anterior de manera distinta."
   ]
  },
  {
   "cell_type": "code",
   "execution_count": 5,
   "id": "73a16944",
   "metadata": {},
   "outputs": [],
   "source": [
    "class Perro(Animal):\n",
    "    def hablar(self):\n",
    "        print(\"Guau!\")\n",
    "\n",
    "class Gato(Animal):\n",
    "    def hablar(self):\n",
    "        print(\"Miau!\")\n",
    "\n",
    "class Vaca(Animal):\n",
    "    def hablar(self):\n",
    "        print(\"Muuu!\")"
   ]
  },
  {
   "cell_type": "markdown",
   "id": "95699925",
   "metadata": {},
   "source": [
    "Si ahora llamamos al método hablar de cada animal, podremos ver el resultado de las diferentes implementaciones."
   ]
  },
  {
   "cell_type": "code",
   "execution_count": 9,
   "id": "a1bcaa2c",
   "metadata": {},
   "outputs": [
    {
     "name": "stdout",
     "output_type": "stream",
     "text": [
      "Guau!\n",
      "Miau!\n",
      "Muuu!\n"
     ]
    }
   ],
   "source": [
    "animales = [Perro(), Gato(), Vaca()]\n",
    "for animal in animales:\n",
    "  animal.hablar()"
   ]
  },
  {
   "cell_type": "markdown",
   "id": "73ed7a06",
   "metadata": {},
   "source": [
    "Por otro lado, el concepto de **duck typing** se podría traducir al Español como el “tipado del pato”. Su origen viene de la siguiente frase: If it looks like a duck and quacks like a duck, it’s a duck. Es decir, que si algo se parece a un pato y grazna como un pato, entonces es un pato.\n",
    "\n",
    "Puede parecer un poco raro mezclar patos y programación, pero si cambiamos los patos por clases y parecerse/granzar por métodos, podemos ver el símil en Python.\n",
    "\n",
    "Nos viene a decir que no importa el tipo del objeto para invocar a un determinado método, basta con que esté definido. Si algo se parece, anda y grazna como un pato, ¿no dirías a caso que se trata de un pato? El razonamiento inductivo nos dice que sí, y es como funcionan en gran medida nuestros razonamientos.\n",
    "\n",
    "En realidad, la única forma de estar realmente seguros sería pidiendo un test de ADN del pato, algo tal vez no muy fácil.\n",
    "\n",
    "Pero volvamos a Python. En el siguiente ejemplo tenemos tres clases distintas sin herencia de por medio. Todas tienen codificado el método `hablar()` así que a Python le da igual el tipo al que pertenezcan."
   ]
  }
 ],
 "metadata": {
  "kernelspec": {
   "display_name": "Python 3 (ipykernel)",
   "language": "python",
   "name": "python3"
  },
  "language_info": {
   "codemirror_mode": {
    "name": "ipython",
    "version": 3
   },
   "file_extension": ".py",
   "mimetype": "text/x-python",
   "name": "python",
   "nbconvert_exporter": "python",
   "pygments_lexer": "ipython3",
   "version": "3.9.12"
  }
 },
 "nbformat": 4,
 "nbformat_minor": 5
}
